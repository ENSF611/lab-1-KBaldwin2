{
 "cells": [
  {
   "cell_type": "code",
   "execution_count": 1,
   "id": "a4f6bc7c-7031-42ef-96b1-38cabb558e43",
   "metadata": {},
   "outputs": [
    {
     "name": "stdout",
     "output_type": "stream",
     "text": [
      "Python␣version: 3.9.13 (main, Aug 25 2022, 18:29:29) \n",
      "[Clang 12.0.0 ]\n",
      "pandas␣version: 1.5.0\n",
      "matplotlib␣version: 3.5.2\n",
      "NumPy␣version: 1.21.5\n",
      "SciPy␣version: 1.7.3\n",
      "IPython␣version: 8.5.0\n",
      "scikit-learn␣version: 1.1.1\n",
      "yellowbrick␣version: 1.5\n"
     ]
    }
   ],
   "source": [
    "import sys\n",
    "print(\"Python␣version:\", sys.version)\n",
    "import pandas as pd\n",
    "print(\"pandas␣version:\", pd.__version__)\n",
    "import matplotlib\n",
    "print(\"matplotlib␣version:\", matplotlib.__version__)\n",
    "import numpy as np\n",
    "print(\"NumPy␣version:\", np.__version__)\n",
    "import scipy as sp\n",
    "print(\"SciPy␣version:\", sp.__version__)\n",
    "import IPython\n",
    "print(\"IPython␣version:\", IPython.__version__)\n",
    "import sklearn\n",
    "print(\"scikit-learn␣version:\", sklearn.__version__)\n",
    "import yellowbrick\n",
    "print(\"yellowbrick␣version:\", yellowbrick.__version__)"
   ]
  },
  {
   "cell_type": "code",
   "execution_count": null,
   "id": "e1b269e4-22b3-43ff-baa0-b52848127f4b",
   "metadata": {},
   "outputs": [],
   "source": []
  }
 ],
 "metadata": {
  "kernelspec": {
   "display_name": "Python 3.9.13 ('ensf-ml')",
   "language": "python",
   "name": "python3"
  },
  "language_info": {
   "codemirror_mode": {
    "name": "ipython",
    "version": 3
   },
   "file_extension": ".py",
   "mimetype": "text/x-python",
   "name": "python",
   "nbconvert_exporter": "python",
   "pygments_lexer": "ipython3",
   "version": "3.9.13"
  },
  "vscode": {
   "interpreter": {
    "hash": "8f717aeb2d6194791aeda150e9a5bc8e0dd4ba3c6d934cc0992f3b2712b816b6"
   }
  }
 },
 "nbformat": 4,
 "nbformat_minor": 5
}
